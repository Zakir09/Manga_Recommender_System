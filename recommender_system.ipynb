{
 "cells": [
  {
   "cell_type": "code",
   "execution_count": 317,
   "id": "6c9a5398-81cb-462b-b9f1-70dea5c50cec",
   "metadata": {},
   "outputs": [],
   "source": [
    "import pandas as pd\n",
    "import numpy as np\n",
    "import matplotlib.pyplot as plt\n",
    "import os"
   ]
  },
  {
   "cell_type": "code",
   "execution_count": 319,
   "id": "0da0217d-bffd-4744-a488-b306ad83b312",
   "metadata": {},
   "outputs": [],
   "source": [
    "manga = pd.read_csv('./data/data.csv')"
   ]
  },
  {
   "cell_type": "code",
   "execution_count": 320,
   "id": "2d699c3d-c948-4dbf-998a-c4111e63f5ab",
   "metadata": {},
   "outputs": [
    {
     "data": {
      "text/html": [
       "<div>\n",
       "<style scoped>\n",
       "    .dataframe tbody tr th:only-of-type {\n",
       "        vertical-align: middle;\n",
       "    }\n",
       "\n",
       "    .dataframe tbody tr th {\n",
       "        vertical-align: top;\n",
       "    }\n",
       "\n",
       "    .dataframe thead th {\n",
       "        text-align: right;\n",
       "    }\n",
       "</style>\n",
       "<table border=\"1\" class=\"dataframe\">\n",
       "  <thead>\n",
       "    <tr style=\"text-align: right;\">\n",
       "      <th></th>\n",
       "      <th>title</th>\n",
       "      <th>description</th>\n",
       "      <th>rating</th>\n",
       "      <th>year</th>\n",
       "      <th>tags</th>\n",
       "      <th>cover</th>\n",
       "    </tr>\n",
       "  </thead>\n",
       "  <tbody>\n",
       "    <tr>\n",
       "      <th>0</th>\n",
       "      <td>Salad Days (Tang LiuZang) - Part 2</td>\n",
       "      <td>The second season of Salad Days (Tang LiuZang).</td>\n",
       "      <td>4.7</td>\n",
       "      <td>2021.0</td>\n",
       "      <td>['BL', 'Manhua', 'Romance', 'Shounen-ai', 'Spo...</td>\n",
       "      <td>https://cdn.anime-planet.com/manga/primary/sal...</td>\n",
       "    </tr>\n",
       "    <tr>\n",
       "      <th>1</th>\n",
       "      <td>The Master of Diabolism</td>\n",
       "      <td>As the grandmaster who founded the Demonic Sec...</td>\n",
       "      <td>4.7</td>\n",
       "      <td>2017.0</td>\n",
       "      <td>['Action', 'Adventure', 'BL', 'Comedy', 'Manhu...</td>\n",
       "      <td>https://cdn.anime-planet.com/manga/primary/the...</td>\n",
       "    </tr>\n",
       "    <tr>\n",
       "      <th>2</th>\n",
       "      <td>JoJo's Bizarre Adventure Part 7: Steel Ball Run</td>\n",
       "      <td>Set in 1890, Steel Ball Run spotlights Gyro Ze...</td>\n",
       "      <td>4.7</td>\n",
       "      <td>2004.0</td>\n",
       "      <td>['Action', 'Adventure', 'Horror', 'Mystery', '...</td>\n",
       "      <td>https://cdn.anime-planet.com/manga/primary/joj...</td>\n",
       "    </tr>\n",
       "    <tr>\n",
       "      <th>3</th>\n",
       "      <td>A Sign of Affection</td>\n",
       "      <td>Yuki is a typical college student, whose world...</td>\n",
       "      <td>4.7</td>\n",
       "      <td>2019.0</td>\n",
       "      <td>['Romance', 'Shoujo', 'Slice of Life', 'Disabi...</td>\n",
       "      <td>https://cdn.anime-planet.com/manga/primary/a-s...</td>\n",
       "    </tr>\n",
       "    <tr>\n",
       "      <th>4</th>\n",
       "      <td>Moriarty the Patriot</td>\n",
       "      <td>Before he was Sherlock’s rival, Moriarty fough...</td>\n",
       "      <td>4.7</td>\n",
       "      <td>2016.0</td>\n",
       "      <td>['Mystery', 'Shounen', 'Detectives', 'England'...</td>\n",
       "      <td>https://cdn.anime-planet.com/manga/primary/mor...</td>\n",
       "    </tr>\n",
       "  </tbody>\n",
       "</table>\n",
       "</div>"
      ],
      "text/plain": [
       "                                             title  \\\n",
       "0               Salad Days (Tang LiuZang) - Part 2   \n",
       "1                          The Master of Diabolism   \n",
       "2  JoJo's Bizarre Adventure Part 7: Steel Ball Run   \n",
       "3                              A Sign of Affection   \n",
       "4                             Moriarty the Patriot   \n",
       "\n",
       "                                         description  rating    year  \\\n",
       "0    The second season of Salad Days (Tang LiuZang).     4.7  2021.0   \n",
       "1  As the grandmaster who founded the Demonic Sec...     4.7  2017.0   \n",
       "2  Set in 1890, Steel Ball Run spotlights Gyro Ze...     4.7  2004.0   \n",
       "3  Yuki is a typical college student, whose world...     4.7  2019.0   \n",
       "4  Before he was Sherlock’s rival, Moriarty fough...     4.7  2016.0   \n",
       "\n",
       "                                                tags  \\\n",
       "0  ['BL', 'Manhua', 'Romance', 'Shounen-ai', 'Spo...   \n",
       "1  ['Action', 'Adventure', 'BL', 'Comedy', 'Manhu...   \n",
       "2  ['Action', 'Adventure', 'Horror', 'Mystery', '...   \n",
       "3  ['Romance', 'Shoujo', 'Slice of Life', 'Disabi...   \n",
       "4  ['Mystery', 'Shounen', 'Detectives', 'England'...   \n",
       "\n",
       "                                               cover  \n",
       "0  https://cdn.anime-planet.com/manga/primary/sal...  \n",
       "1  https://cdn.anime-planet.com/manga/primary/the...  \n",
       "2  https://cdn.anime-planet.com/manga/primary/joj...  \n",
       "3  https://cdn.anime-planet.com/manga/primary/a-s...  \n",
       "4  https://cdn.anime-planet.com/manga/primary/mor...  "
      ]
     },
     "execution_count": 320,
     "metadata": {},
     "output_type": "execute_result"
    }
   ],
   "source": [
    "manga.head()"
   ]
  },
  {
   "cell_type": "code",
   "execution_count": 443,
   "id": "721a6561-0ed9-465e-9a63-d7080e7bf688",
   "metadata": {},
   "outputs": [
    {
     "data": {
      "text/plain": [
       "(10960, 6)"
      ]
     },
     "execution_count": 443,
     "metadata": {},
     "output_type": "execute_result"
    }
   ],
   "source": [
    "manga.shape"
   ]
  },
  {
   "cell_type": "code",
   "execution_count": 325,
   "id": "aa570877-f6fb-46b6-8717-cad39ce44c45",
   "metadata": {},
   "outputs": [
    {
     "data": {
      "text/plain": [
       "title              0\n",
       "description       31\n",
       "rating         41077\n",
       "year             824\n",
       "tags               0\n",
       "cover              0\n",
       "dtype: int64"
      ]
     },
     "execution_count": 325,
     "metadata": {},
     "output_type": "execute_result"
    }
   ],
   "source": [
    "manga.isnull().sum()"
   ]
  },
  {
   "cell_type": "code",
   "execution_count": 327,
   "id": "43681301-ada4-4d14-abfd-c1a765bc3c16",
   "metadata": {},
   "outputs": [
    {
     "data": {
      "text/plain": [
       "title           object\n",
       "description     object\n",
       "rating         float64\n",
       "year           float64\n",
       "tags            object\n",
       "cover           object\n",
       "dtype: object"
      ]
     },
     "execution_count": 327,
     "metadata": {},
     "output_type": "execute_result"
    }
   ],
   "source": [
    "manga.dtypes"
   ]
  },
  {
   "cell_type": "code",
   "execution_count": 329,
   "id": "fb8d26e0-fc86-4b80-8333-61a7a612c801",
   "metadata": {},
   "outputs": [],
   "source": [
    "#manga['rating'] = manga['rating'].fillna(0)"
   ]
  },
  {
   "cell_type": "code",
   "execution_count": 331,
   "id": "230c9758-3b92-413a-9c33-b4096506b886",
   "metadata": {},
   "outputs": [],
   "source": [
    "#manga['year'] = manga['year'].fillna(0)"
   ]
  },
  {
   "cell_type": "code",
   "execution_count": 333,
   "id": "bbc49291-7d42-4318-871a-7dc4abe2e4c6",
   "metadata": {},
   "outputs": [],
   "source": [
    "manga.dropna(inplace=True)"
   ]
  },
  {
   "cell_type": "code",
   "execution_count": 335,
   "id": "fd54c6c7-9c89-4591-b24d-b38267c6d06f",
   "metadata": {},
   "outputs": [],
   "source": [
    "manga = manga[manga['rating'] >= 4]"
   ]
  },
  {
   "cell_type": "code",
   "execution_count": 336,
   "id": "bdf91ab0-4298-4494-8293-1adf8c1b1ff9",
   "metadata": {},
   "outputs": [
    {
     "data": {
      "text/plain": [
       "0"
      ]
     },
     "execution_count": 336,
     "metadata": {},
     "output_type": "execute_result"
    }
   ],
   "source": [
    "manga.duplicated().sum()"
   ]
  },
  {
   "cell_type": "code",
   "execution_count": 337,
   "id": "48d11578-b0af-4372-91cf-c89ef80c0015",
   "metadata": {},
   "outputs": [],
   "source": [
    "manga = manga.drop('cover', axis=1)"
   ]
  },
  {
   "cell_type": "code",
   "execution_count": 338,
   "id": "fdd9ecce-2440-4d2f-8d0c-3eb43fcf599b",
   "metadata": {},
   "outputs": [],
   "source": [
    "manga['description'] = manga['description'].apply(lambda x : x.split())"
   ]
  },
  {
   "cell_type": "code",
   "execution_count": 339,
   "id": "1f7d1911-b748-4fa4-9753-22dde3537075",
   "metadata": {},
   "outputs": [
    {
     "data": {
      "text/html": [
       "<div>\n",
       "<style scoped>\n",
       "    .dataframe tbody tr th:only-of-type {\n",
       "        vertical-align: middle;\n",
       "    }\n",
       "\n",
       "    .dataframe tbody tr th {\n",
       "        vertical-align: top;\n",
       "    }\n",
       "\n",
       "    .dataframe thead th {\n",
       "        text-align: right;\n",
       "    }\n",
       "</style>\n",
       "<table border=\"1\" class=\"dataframe\">\n",
       "  <thead>\n",
       "    <tr style=\"text-align: right;\">\n",
       "      <th></th>\n",
       "      <th>title</th>\n",
       "      <th>description</th>\n",
       "      <th>rating</th>\n",
       "      <th>year</th>\n",
       "      <th>tags</th>\n",
       "    </tr>\n",
       "  </thead>\n",
       "  <tbody>\n",
       "    <tr>\n",
       "      <th>0</th>\n",
       "      <td>Salad Days (Tang LiuZang) - Part 2</td>\n",
       "      <td>[The, second, season, of, Salad, Days, (Tang, ...</td>\n",
       "      <td>4.7</td>\n",
       "      <td>2021.0</td>\n",
       "      <td>['BL', 'Manhua', 'Romance', 'Shounen-ai', 'Spo...</td>\n",
       "    </tr>\n",
       "    <tr>\n",
       "      <th>1</th>\n",
       "      <td>The Master of Diabolism</td>\n",
       "      <td>[As, the, grandmaster, who, founded, the, Demo...</td>\n",
       "      <td>4.7</td>\n",
       "      <td>2017.0</td>\n",
       "      <td>['Action', 'Adventure', 'BL', 'Comedy', 'Manhu...</td>\n",
       "    </tr>\n",
       "    <tr>\n",
       "      <th>2</th>\n",
       "      <td>JoJo's Bizarre Adventure Part 7: Steel Ball Run</td>\n",
       "      <td>[Set, in, 1890,, Steel, Ball, Run, spotlights,...</td>\n",
       "      <td>4.7</td>\n",
       "      <td>2004.0</td>\n",
       "      <td>['Action', 'Adventure', 'Horror', 'Mystery', '...</td>\n",
       "    </tr>\n",
       "    <tr>\n",
       "      <th>3</th>\n",
       "      <td>A Sign of Affection</td>\n",
       "      <td>[Yuki, is, a, typical, college, student,, whos...</td>\n",
       "      <td>4.7</td>\n",
       "      <td>2019.0</td>\n",
       "      <td>['Romance', 'Shoujo', 'Slice of Life', 'Disabi...</td>\n",
       "    </tr>\n",
       "    <tr>\n",
       "      <th>4</th>\n",
       "      <td>Moriarty the Patriot</td>\n",
       "      <td>[Before, he, was, Sherlock’s, rival,, Moriarty...</td>\n",
       "      <td>4.7</td>\n",
       "      <td>2016.0</td>\n",
       "      <td>['Mystery', 'Shounen', 'Detectives', 'England'...</td>\n",
       "    </tr>\n",
       "  </tbody>\n",
       "</table>\n",
       "</div>"
      ],
      "text/plain": [
       "                                             title  \\\n",
       "0               Salad Days (Tang LiuZang) - Part 2   \n",
       "1                          The Master of Diabolism   \n",
       "2  JoJo's Bizarre Adventure Part 7: Steel Ball Run   \n",
       "3                              A Sign of Affection   \n",
       "4                             Moriarty the Patriot   \n",
       "\n",
       "                                         description  rating    year  \\\n",
       "0  [The, second, season, of, Salad, Days, (Tang, ...     4.7  2021.0   \n",
       "1  [As, the, grandmaster, who, founded, the, Demo...     4.7  2017.0   \n",
       "2  [Set, in, 1890,, Steel, Ball, Run, spotlights,...     4.7  2004.0   \n",
       "3  [Yuki, is, a, typical, college, student,, whos...     4.7  2019.0   \n",
       "4  [Before, he, was, Sherlock’s, rival,, Moriarty...     4.7  2016.0   \n",
       "\n",
       "                                                tags  \n",
       "0  ['BL', 'Manhua', 'Romance', 'Shounen-ai', 'Spo...  \n",
       "1  ['Action', 'Adventure', 'BL', 'Comedy', 'Manhu...  \n",
       "2  ['Action', 'Adventure', 'Horror', 'Mystery', '...  \n",
       "3  ['Romance', 'Shoujo', 'Slice of Life', 'Disabi...  \n",
       "4  ['Mystery', 'Shounen', 'Detectives', 'England'...  "
      ]
     },
     "execution_count": 339,
     "metadata": {},
     "output_type": "execute_result"
    }
   ],
   "source": [
    "manga.head()"
   ]
  },
  {
   "cell_type": "code",
   "execution_count": 345,
   "id": "725bb425-e5c7-4b31-9a4d-310d5904ac45",
   "metadata": {},
   "outputs": [
    {
     "data": {
      "text/plain": [
       "\"['BL', 'Manhua', 'Romance', 'Shounen-ai', 'Sports', 'Webtoons', 'Full Color']\""
      ]
     },
     "execution_count": 345,
     "metadata": {},
     "output_type": "execute_result"
    }
   ],
   "source": [
    "manga.iloc[0]['tags']"
   ]
  },
  {
   "cell_type": "code",
   "execution_count": 347,
   "id": "470136ec-5664-41d2-858a-7301fbd9a75a",
   "metadata": {},
   "outputs": [],
   "source": [
    "import re\n",
    "\n",
    "def clean_description(word):\n",
    "    l = []\n",
    "    for i in word:\n",
    "        cleaned = re.sub(r\"[()\\-\\s]\", \"\", i)\n",
    "        l.append(cleaned)\n",
    "    return l"
   ]
  },
  {
   "cell_type": "code",
   "execution_count": 349,
   "id": "ea67adbb-17ed-406f-b3ef-0dd11ce38892",
   "metadata": {},
   "outputs": [],
   "source": [
    "import ast \n",
    "\n",
    "def clean_tags(word):\n",
    "    if isinstance(word, str):\n",
    "        word = ast.literal_eval(word)  \n",
    "    \n",
    "    l = []\n",
    "    for i in word:\n",
    "        cleaned = i.replace(\" \", \"\").replace(\"-\", \"\")\n",
    "        l.append(cleaned)\n",
    "    return l"
   ]
  },
  {
   "cell_type": "code",
   "execution_count": 351,
   "id": "54ee38f9-c31a-4bcd-b819-614303a28e53",
   "metadata": {},
   "outputs": [],
   "source": [
    "def remove_space(word):\n",
    "    l = []\n",
    "    for i in word:\n",
    "        l.append(i.replace(\" \", \"\"))\n",
    "    return l"
   ]
  },
  {
   "cell_type": "code",
   "execution_count": 353,
   "id": "9d87c4ae-a95e-4a53-a866-4f2d2e40f9c8",
   "metadata": {},
   "outputs": [],
   "source": [
    "manga['description'] = manga['description'].apply(remove_space)\n",
    "manga['tags'] = manga['tags'].apply(clean_tags)"
   ]
  },
  {
   "cell_type": "code",
   "execution_count": 355,
   "id": "1686e1c4-f132-43d3-b760-ebb1d9beb198",
   "metadata": {},
   "outputs": [
    {
     "data": {
      "text/html": [
       "<div>\n",
       "<style scoped>\n",
       "    .dataframe tbody tr th:only-of-type {\n",
       "        vertical-align: middle;\n",
       "    }\n",
       "\n",
       "    .dataframe tbody tr th {\n",
       "        vertical-align: top;\n",
       "    }\n",
       "\n",
       "    .dataframe thead th {\n",
       "        text-align: right;\n",
       "    }\n",
       "</style>\n",
       "<table border=\"1\" class=\"dataframe\">\n",
       "  <thead>\n",
       "    <tr style=\"text-align: right;\">\n",
       "      <th></th>\n",
       "      <th>title</th>\n",
       "      <th>description</th>\n",
       "      <th>rating</th>\n",
       "      <th>year</th>\n",
       "      <th>tags</th>\n",
       "    </tr>\n",
       "  </thead>\n",
       "  <tbody>\n",
       "    <tr>\n",
       "      <th>0</th>\n",
       "      <td>Salad Days (Tang LiuZang) - Part 2</td>\n",
       "      <td>[The, second, season, of, Salad, Days, (Tang, ...</td>\n",
       "      <td>4.7</td>\n",
       "      <td>2021.0</td>\n",
       "      <td>[BL, Manhua, Romance, Shounenai, Sports, Webto...</td>\n",
       "    </tr>\n",
       "    <tr>\n",
       "      <th>1</th>\n",
       "      <td>The Master of Diabolism</td>\n",
       "      <td>[As, the, grandmaster, who, founded, the, Demo...</td>\n",
       "      <td>4.7</td>\n",
       "      <td>2017.0</td>\n",
       "      <td>[Action, Adventure, BL, Comedy, Manhua, Myster...</td>\n",
       "    </tr>\n",
       "    <tr>\n",
       "      <th>2</th>\n",
       "      <td>JoJo's Bizarre Adventure Part 7: Steel Ball Run</td>\n",
       "      <td>[Set, in, 1890,, Steel, Ball, Run, spotlights,...</td>\n",
       "      <td>4.7</td>\n",
       "      <td>2004.0</td>\n",
       "      <td>[Action, Adventure, Horror, Mystery, Seinen, 1...</td>\n",
       "    </tr>\n",
       "    <tr>\n",
       "      <th>3</th>\n",
       "      <td>A Sign of Affection</td>\n",
       "      <td>[Yuki, is, a, typical, college, student,, whos...</td>\n",
       "      <td>4.7</td>\n",
       "      <td>2019.0</td>\n",
       "      <td>[Romance, Shoujo, SliceofLife, Disability]</td>\n",
       "    </tr>\n",
       "    <tr>\n",
       "      <th>4</th>\n",
       "      <td>Moriarty the Patriot</td>\n",
       "      <td>[Before, he, was, Sherlock’s, rival,, Moriarty...</td>\n",
       "      <td>4.7</td>\n",
       "      <td>2016.0</td>\n",
       "      <td>[Mystery, Shounen, Detectives, England, Europe...</td>\n",
       "    </tr>\n",
       "  </tbody>\n",
       "</table>\n",
       "</div>"
      ],
      "text/plain": [
       "                                             title  \\\n",
       "0               Salad Days (Tang LiuZang) - Part 2   \n",
       "1                          The Master of Diabolism   \n",
       "2  JoJo's Bizarre Adventure Part 7: Steel Ball Run   \n",
       "3                              A Sign of Affection   \n",
       "4                             Moriarty the Patriot   \n",
       "\n",
       "                                         description  rating    year  \\\n",
       "0  [The, second, season, of, Salad, Days, (Tang, ...     4.7  2021.0   \n",
       "1  [As, the, grandmaster, who, founded, the, Demo...     4.7  2017.0   \n",
       "2  [Set, in, 1890,, Steel, Ball, Run, spotlights,...     4.7  2004.0   \n",
       "3  [Yuki, is, a, typical, college, student,, whos...     4.7  2019.0   \n",
       "4  [Before, he, was, Sherlock’s, rival,, Moriarty...     4.7  2016.0   \n",
       "\n",
       "                                                tags  \n",
       "0  [BL, Manhua, Romance, Shounenai, Sports, Webto...  \n",
       "1  [Action, Adventure, BL, Comedy, Manhua, Myster...  \n",
       "2  [Action, Adventure, Horror, Mystery, Seinen, 1...  \n",
       "3         [Romance, Shoujo, SliceofLife, Disability]  \n",
       "4  [Mystery, Shounen, Detectives, England, Europe...  "
      ]
     },
     "execution_count": 355,
     "metadata": {},
     "output_type": "execute_result"
    }
   ],
   "source": [
    "manga.head()"
   ]
  },
  {
   "cell_type": "code",
   "execution_count": 357,
   "id": "e7117a65-e813-4ebe-bef2-c4416730673f",
   "metadata": {},
   "outputs": [],
   "source": [
    "manga['fulltag'] = manga['description'] + manga['tags']"
   ]
  },
  {
   "cell_type": "code",
   "execution_count": 359,
   "id": "1b795589-b98a-4d2a-85d4-7fec22f3d9e6",
   "metadata": {},
   "outputs": [
    {
     "data": {
      "text/html": [
       "<div>\n",
       "<style scoped>\n",
       "    .dataframe tbody tr th:only-of-type {\n",
       "        vertical-align: middle;\n",
       "    }\n",
       "\n",
       "    .dataframe tbody tr th {\n",
       "        vertical-align: top;\n",
       "    }\n",
       "\n",
       "    .dataframe thead th {\n",
       "        text-align: right;\n",
       "    }\n",
       "</style>\n",
       "<table border=\"1\" class=\"dataframe\">\n",
       "  <thead>\n",
       "    <tr style=\"text-align: right;\">\n",
       "      <th></th>\n",
       "      <th>title</th>\n",
       "      <th>description</th>\n",
       "      <th>rating</th>\n",
       "      <th>year</th>\n",
       "      <th>tags</th>\n",
       "      <th>fulltag</th>\n",
       "    </tr>\n",
       "  </thead>\n",
       "  <tbody>\n",
       "    <tr>\n",
       "      <th>0</th>\n",
       "      <td>Salad Days (Tang LiuZang) - Part 2</td>\n",
       "      <td>[The, second, season, of, Salad, Days, (Tang, ...</td>\n",
       "      <td>4.7</td>\n",
       "      <td>2021.0</td>\n",
       "      <td>[BL, Manhua, Romance, Shounenai, Sports, Webto...</td>\n",
       "      <td>[The, second, season, of, Salad, Days, (Tang, ...</td>\n",
       "    </tr>\n",
       "    <tr>\n",
       "      <th>1</th>\n",
       "      <td>The Master of Diabolism</td>\n",
       "      <td>[As, the, grandmaster, who, founded, the, Demo...</td>\n",
       "      <td>4.7</td>\n",
       "      <td>2017.0</td>\n",
       "      <td>[Action, Adventure, BL, Comedy, Manhua, Myster...</td>\n",
       "      <td>[As, the, grandmaster, who, founded, the, Demo...</td>\n",
       "    </tr>\n",
       "    <tr>\n",
       "      <th>2</th>\n",
       "      <td>JoJo's Bizarre Adventure Part 7: Steel Ball Run</td>\n",
       "      <td>[Set, in, 1890,, Steel, Ball, Run, spotlights,...</td>\n",
       "      <td>4.7</td>\n",
       "      <td>2004.0</td>\n",
       "      <td>[Action, Adventure, Horror, Mystery, Seinen, 1...</td>\n",
       "      <td>[Set, in, 1890,, Steel, Ball, Run, spotlights,...</td>\n",
       "    </tr>\n",
       "    <tr>\n",
       "      <th>3</th>\n",
       "      <td>A Sign of Affection</td>\n",
       "      <td>[Yuki, is, a, typical, college, student,, whos...</td>\n",
       "      <td>4.7</td>\n",
       "      <td>2019.0</td>\n",
       "      <td>[Romance, Shoujo, SliceofLife, Disability]</td>\n",
       "      <td>[Yuki, is, a, typical, college, student,, whos...</td>\n",
       "    </tr>\n",
       "    <tr>\n",
       "      <th>4</th>\n",
       "      <td>Moriarty the Patriot</td>\n",
       "      <td>[Before, he, was, Sherlock’s, rival,, Moriarty...</td>\n",
       "      <td>4.7</td>\n",
       "      <td>2016.0</td>\n",
       "      <td>[Mystery, Shounen, Detectives, England, Europe...</td>\n",
       "      <td>[Before, he, was, Sherlock’s, rival,, Moriarty...</td>\n",
       "    </tr>\n",
       "  </tbody>\n",
       "</table>\n",
       "</div>"
      ],
      "text/plain": [
       "                                             title  \\\n",
       "0               Salad Days (Tang LiuZang) - Part 2   \n",
       "1                          The Master of Diabolism   \n",
       "2  JoJo's Bizarre Adventure Part 7: Steel Ball Run   \n",
       "3                              A Sign of Affection   \n",
       "4                             Moriarty the Patriot   \n",
       "\n",
       "                                         description  rating    year  \\\n",
       "0  [The, second, season, of, Salad, Days, (Tang, ...     4.7  2021.0   \n",
       "1  [As, the, grandmaster, who, founded, the, Demo...     4.7  2017.0   \n",
       "2  [Set, in, 1890,, Steel, Ball, Run, spotlights,...     4.7  2004.0   \n",
       "3  [Yuki, is, a, typical, college, student,, whos...     4.7  2019.0   \n",
       "4  [Before, he, was, Sherlock’s, rival,, Moriarty...     4.7  2016.0   \n",
       "\n",
       "                                                tags  \\\n",
       "0  [BL, Manhua, Romance, Shounenai, Sports, Webto...   \n",
       "1  [Action, Adventure, BL, Comedy, Manhua, Myster...   \n",
       "2  [Action, Adventure, Horror, Mystery, Seinen, 1...   \n",
       "3         [Romance, Shoujo, SliceofLife, Disability]   \n",
       "4  [Mystery, Shounen, Detectives, England, Europe...   \n",
       "\n",
       "                                             fulltag  \n",
       "0  [The, second, season, of, Salad, Days, (Tang, ...  \n",
       "1  [As, the, grandmaster, who, founded, the, Demo...  \n",
       "2  [Set, in, 1890,, Steel, Ball, Run, spotlights,...  \n",
       "3  [Yuki, is, a, typical, college, student,, whos...  \n",
       "4  [Before, he, was, Sherlock’s, rival,, Moriarty...  "
      ]
     },
     "execution_count": 359,
     "metadata": {},
     "output_type": "execute_result"
    }
   ],
   "source": [
    "manga.head()"
   ]
  },
  {
   "cell_type": "code",
   "execution_count": 361,
   "id": "c4549eab-0b52-4cde-81d8-46da10e6baa6",
   "metadata": {},
   "outputs": [],
   "source": [
    "manga['fulltag'] = manga['fulltag'].apply(lambda x:\" \".join(x))"
   ]
  },
  {
   "cell_type": "code",
   "execution_count": 363,
   "id": "c76dbb6f-82b1-4a5d-8523-a6e9e4a70672",
   "metadata": {},
   "outputs": [
    {
     "data": {
      "text/html": [
       "<div>\n",
       "<style scoped>\n",
       "    .dataframe tbody tr th:only-of-type {\n",
       "        vertical-align: middle;\n",
       "    }\n",
       "\n",
       "    .dataframe tbody tr th {\n",
       "        vertical-align: top;\n",
       "    }\n",
       "\n",
       "    .dataframe thead th {\n",
       "        text-align: right;\n",
       "    }\n",
       "</style>\n",
       "<table border=\"1\" class=\"dataframe\">\n",
       "  <thead>\n",
       "    <tr style=\"text-align: right;\">\n",
       "      <th></th>\n",
       "      <th>title</th>\n",
       "      <th>description</th>\n",
       "      <th>rating</th>\n",
       "      <th>year</th>\n",
       "      <th>tags</th>\n",
       "      <th>fulltag</th>\n",
       "    </tr>\n",
       "  </thead>\n",
       "  <tbody>\n",
       "    <tr>\n",
       "      <th>0</th>\n",
       "      <td>Salad Days (Tang LiuZang) - Part 2</td>\n",
       "      <td>[The, second, season, of, Salad, Days, (Tang, ...</td>\n",
       "      <td>4.7</td>\n",
       "      <td>2021.0</td>\n",
       "      <td>[BL, Manhua, Romance, Shounenai, Sports, Webto...</td>\n",
       "      <td>The second season of Salad Days (Tang LiuZang)...</td>\n",
       "    </tr>\n",
       "    <tr>\n",
       "      <th>1</th>\n",
       "      <td>The Master of Diabolism</td>\n",
       "      <td>[As, the, grandmaster, who, founded, the, Demo...</td>\n",
       "      <td>4.7</td>\n",
       "      <td>2017.0</td>\n",
       "      <td>[Action, Adventure, BL, Comedy, Manhua, Myster...</td>\n",
       "      <td>As the grandmaster who founded the Demonic Sec...</td>\n",
       "    </tr>\n",
       "    <tr>\n",
       "      <th>2</th>\n",
       "      <td>JoJo's Bizarre Adventure Part 7: Steel Ball Run</td>\n",
       "      <td>[Set, in, 1890,, Steel, Ball, Run, spotlights,...</td>\n",
       "      <td>4.7</td>\n",
       "      <td>2004.0</td>\n",
       "      <td>[Action, Adventure, Horror, Mystery, Seinen, 1...</td>\n",
       "      <td>Set in 1890, Steel Ball Run spotlights Gyro Ze...</td>\n",
       "    </tr>\n",
       "    <tr>\n",
       "      <th>3</th>\n",
       "      <td>A Sign of Affection</td>\n",
       "      <td>[Yuki, is, a, typical, college, student,, whos...</td>\n",
       "      <td>4.7</td>\n",
       "      <td>2019.0</td>\n",
       "      <td>[Romance, Shoujo, SliceofLife, Disability]</td>\n",
       "      <td>Yuki is a typical college student, whose world...</td>\n",
       "    </tr>\n",
       "    <tr>\n",
       "      <th>4</th>\n",
       "      <td>Moriarty the Patriot</td>\n",
       "      <td>[Before, he, was, Sherlock’s, rival,, Moriarty...</td>\n",
       "      <td>4.7</td>\n",
       "      <td>2016.0</td>\n",
       "      <td>[Mystery, Shounen, Detectives, England, Europe...</td>\n",
       "      <td>Before he was Sherlock’s rival, Moriarty fough...</td>\n",
       "    </tr>\n",
       "  </tbody>\n",
       "</table>\n",
       "</div>"
      ],
      "text/plain": [
       "                                             title  \\\n",
       "0               Salad Days (Tang LiuZang) - Part 2   \n",
       "1                          The Master of Diabolism   \n",
       "2  JoJo's Bizarre Adventure Part 7: Steel Ball Run   \n",
       "3                              A Sign of Affection   \n",
       "4                             Moriarty the Patriot   \n",
       "\n",
       "                                         description  rating    year  \\\n",
       "0  [The, second, season, of, Salad, Days, (Tang, ...     4.7  2021.0   \n",
       "1  [As, the, grandmaster, who, founded, the, Demo...     4.7  2017.0   \n",
       "2  [Set, in, 1890,, Steel, Ball, Run, spotlights,...     4.7  2004.0   \n",
       "3  [Yuki, is, a, typical, college, student,, whos...     4.7  2019.0   \n",
       "4  [Before, he, was, Sherlock’s, rival,, Moriarty...     4.7  2016.0   \n",
       "\n",
       "                                                tags  \\\n",
       "0  [BL, Manhua, Romance, Shounenai, Sports, Webto...   \n",
       "1  [Action, Adventure, BL, Comedy, Manhua, Myster...   \n",
       "2  [Action, Adventure, Horror, Mystery, Seinen, 1...   \n",
       "3         [Romance, Shoujo, SliceofLife, Disability]   \n",
       "4  [Mystery, Shounen, Detectives, England, Europe...   \n",
       "\n",
       "                                             fulltag  \n",
       "0  The second season of Salad Days (Tang LiuZang)...  \n",
       "1  As the grandmaster who founded the Demonic Sec...  \n",
       "2  Set in 1890, Steel Ball Run spotlights Gyro Ze...  \n",
       "3  Yuki is a typical college student, whose world...  \n",
       "4  Before he was Sherlock’s rival, Moriarty fough...  "
      ]
     },
     "execution_count": 363,
     "metadata": {},
     "output_type": "execute_result"
    }
   ],
   "source": [
    "manga.head()"
   ]
  },
  {
   "cell_type": "code",
   "execution_count": 365,
   "id": "8becedfc-b2a2-44a0-90d1-98d3448972d3",
   "metadata": {},
   "outputs": [],
   "source": [
    "manga['fulltag'] = manga['fulltag'].apply(lambda x:x.lower())"
   ]
  },
  {
   "cell_type": "code",
   "execution_count": 367,
   "id": "1a6af18e-e3ef-45b8-b171-ad9f79911d98",
   "metadata": {},
   "outputs": [
    {
     "data": {
      "text/plain": [
       "'the second season of salad days (tang liuzang). bl manhua romance shounenai sports webtoons fullcolor'"
      ]
     },
     "execution_count": 367,
     "metadata": {},
     "output_type": "execute_result"
    }
   ],
   "source": [
    "manga.iloc[0]['fulltag']"
   ]
  },
  {
   "cell_type": "code",
   "execution_count": 369,
   "id": "4f2a36c0-04df-4ac1-b2c3-5b29c18f0be6",
   "metadata": {},
   "outputs": [],
   "source": [
    "import nltk\n",
    "from nltk.stem import PorterStemmer\n",
    "\n",
    "ps = PorterStemmer()"
   ]
  },
  {
   "cell_type": "code",
   "execution_count": 371,
   "id": "c419d911-d32c-4d01-bcdb-1c16f5d41911",
   "metadata": {},
   "outputs": [],
   "source": [
    "def stems(text):\n",
    "    l = []\n",
    "    for i in text.split():\n",
    "        l.append(ps.stem(i))\n",
    "    return \" \".join(l)"
   ]
  },
  {
   "cell_type": "code",
   "execution_count": 373,
   "id": "09558fa5-e336-4750-ac9c-8fe3fd66bb15",
   "metadata": {},
   "outputs": [],
   "source": [
    "manga['fulltag'] = manga['fulltag'].apply(stems)"
   ]
  },
  {
   "cell_type": "code",
   "execution_count": 375,
   "id": "6a3a52af-447e-47ba-81ee-184b094cfb3f",
   "metadata": {},
   "outputs": [
    {
     "data": {
      "text/plain": [
       "'yuki is a typic colleg student, whose world revolv around her friends, social media, and the latest sales. but when a chanc encount on a train lead to her meet friend-of-a-friend and fellow student itsuomi-san, her world start to widen. but even though itsuomi-kun can speak three languages, sign languag isn’t one of them. can the two learn to commun the bud feel between them? romanc shoujo sliceoflif disabl'"
      ]
     },
     "execution_count": 375,
     "metadata": {},
     "output_type": "execute_result"
    }
   ],
   "source": [
    "manga.iloc[3]['fulltag']"
   ]
  },
  {
   "cell_type": "code",
   "execution_count": 379,
   "id": "185b7c56-39ec-4612-a41c-db7643a166f2",
   "metadata": {},
   "outputs": [],
   "source": [
    "from sklearn.feature_extraction.text import CountVectorizer\n",
    "cv = CountVectorizer(max_features=11000, stop_words='english')"
   ]
  },
  {
   "cell_type": "code",
   "execution_count": 381,
   "id": "68e3345b-8812-44fe-b07c-addae97e80e1",
   "metadata": {},
   "outputs": [],
   "source": [
    "vector = cv.fit_transform(manga['fulltag']).toarray()"
   ]
  },
  {
   "cell_type": "code",
   "execution_count": 383,
   "id": "780355d9-8013-47f7-8b30-dd224c67b6ea",
   "metadata": {},
   "outputs": [
    {
     "data": {
      "text/plain": [
       "(10960, 11000)"
      ]
     },
     "execution_count": 383,
     "metadata": {},
     "output_type": "execute_result"
    }
   ],
   "source": [
    "vector.shape"
   ]
  },
  {
   "cell_type": "code",
   "execution_count": 385,
   "id": "9be277ba-d1ff-476c-8234-31cf85dced8b",
   "metadata": {},
   "outputs": [],
   "source": [
    "from sklearn.metrics.pairwise import cosine_similarity\n",
    "similarity = cosine_similarity(vector)"
   ]
  },
  {
   "cell_type": "code",
   "execution_count": 387,
   "id": "aef0557b-272d-412a-a322-4141a3009745",
   "metadata": {},
   "outputs": [
    {
     "data": {
      "text/plain": [
       "(10960, 10960)"
      ]
     },
     "execution_count": 387,
     "metadata": {},
     "output_type": "execute_result"
    }
   ],
   "source": [
    "similarity.shape"
   ]
  },
  {
   "cell_type": "code",
   "execution_count": 399,
   "id": "dbfcfafb-a7c1-4c06-8f1b-a7574a0f5097",
   "metadata": {},
   "outputs": [
    {
     "data": {
      "text/plain": [
       "596"
      ]
     },
     "execution_count": 399,
     "metadata": {},
     "output_type": "execute_result"
    }
   ],
   "source": [
    "manga[manga['title'] == 'Dragon Ball'].index[0]"
   ]
  },
  {
   "cell_type": "code",
   "execution_count": 413,
   "id": "cd43243b-0a41-4816-8664-d79a6833eca2",
   "metadata": {},
   "outputs": [],
   "source": [
    "def recommend(manga_title):\n",
    "    index = manga[manga['title'] == manga_title].index[0]\n",
    "    distances = sorted(list(enumerate(similarity[index])), reverse=True, key=lambda x: x[1])\n",
    "    for i in distances[1:6]:\n",
    "        print(manga.iloc[i[0]].title)"
   ]
  },
  {
   "cell_type": "code",
   "execution_count": 441,
   "id": "974ba5b2-33d4-4ace-a289-b0774e753831",
   "metadata": {},
   "outputs": [
    {
     "name": "stdout",
     "output_type": "stream",
     "text": [
      "Trinity Wonder\n",
      "Shaman (Won-Pyo HONG)\n",
      "Isekai Majutsushi wa Mahou wo Tonaenai (Light Novel)\n",
      "Life Going Wild With Plug-ins\n",
      "The First Sequence\n"
     ]
    }
   ],
   "source": [
    "recommend('Murim Login')"
   ]
  },
  {
   "cell_type": "code",
   "execution_count": 437,
   "id": "19a70bd7-391a-4f42-b44a-25196296bda7",
   "metadata": {},
   "outputs": [],
   "source": [
    "import pickle\n",
    "\n",
    "pickle.dump(manga, open('artifacts/manga_list.pkl', 'wb'))\n",
    "pickle.dump(similarity, open('artifacts/similarity.pkl', 'wb'))"
   ]
  },
  {
   "cell_type": "code",
   "execution_count": null,
   "id": "c2e47cb6-e290-4f98-9baa-f7f623b2426c",
   "metadata": {},
   "outputs": [],
   "source": []
  }
 ],
 "metadata": {
  "kernelspec": {
   "display_name": "Python 3 (ipykernel)",
   "language": "python",
   "name": "python3"
  },
  "language_info": {
   "codemirror_mode": {
    "name": "ipython",
    "version": 3
   },
   "file_extension": ".py",
   "mimetype": "text/x-python",
   "name": "python",
   "nbconvert_exporter": "python",
   "pygments_lexer": "ipython3",
   "version": "3.12.7"
  }
 },
 "nbformat": 4,
 "nbformat_minor": 5
}
